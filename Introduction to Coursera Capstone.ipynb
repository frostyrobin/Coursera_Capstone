{
 "cells": [
  {
   "cell_type": "markdown",
   "metadata": {
    "collapsed": true
   },
   "source": [
    "# Capstone Project - The Battle of Neighborhoods\n",
    "\n",
    "### Finding the best location to build student dormitories in Davao City"
   ]
  },
  {
   "cell_type": "markdown",
   "metadata": {},
   "source": [
    "Student dormitories can be a lucrative business venture in Davao city since majority of college students studying in Davao are from the provinces. This leads to higher demands for dormitories and apartments since these students would usually opt for dormitories and apartments to cater their stay in the city. And, great spots to consider would be those located near universities, food courts, diners, malls, convenience stores, gyms, and bars."
   ]
  },
  {
   "cell_type": "markdown",
   "metadata": {},
   "source": [
    "### Data\n",
    "\n",
    "The data used for this study would mostly come from Foursquare's data. I would be identifying the schools located in downtown Davao, filter venues, and perform clustering. A heatmap would then be used to identify hotzones where there's an abundance of venues meeting our criteria.\n",
    "\n",
    "For simplicity, we would not be considering the cost of real estate in this study, and we would only be concerned in identifying spots that would most likely garner interest from potential tenants."
   ]
  },
  {
   "cell_type": "code",
   "execution_count": null,
   "metadata": {},
   "outputs": [],
   "source": []
  }
 ],
 "metadata": {
  "kernelspec": {
   "display_name": "Python 3.7",
   "language": "python",
   "name": "python3"
  },
  "language_info": {
   "codemirror_mode": {
    "name": "ipython",
    "version": 3
   },
   "file_extension": ".py",
   "mimetype": "text/x-python",
   "name": "python",
   "nbconvert_exporter": "python",
   "pygments_lexer": "ipython3",
   "version": "3.7.10"
  }
 },
 "nbformat": 4,
 "nbformat_minor": 1
}
